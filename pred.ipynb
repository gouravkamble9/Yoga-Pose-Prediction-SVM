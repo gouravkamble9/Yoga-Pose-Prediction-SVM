{
 "cells": [
  {
   "cell_type": "code",
   "execution_count": 1,
   "metadata": {},
   "outputs": [],
   "source": [
    "import pickle\n",
    "import numpy as np\n",
    "import pandas as pd\n",
    "import mediapipe as mp\n",
    "import cv2\n",
    "import math\n",
    "from sklearn.preprocessing import StandardScaler"
   ]
  },
  {
   "cell_type": "code",
   "execution_count": 2,
   "metadata": {},
   "outputs": [],
   "source": [
    "mpDraw = mp.solutions.drawing_utils\n",
    "mpPose = mp.solutions.pose\n",
    "mp_holistic = mp.solutions.holistic\n",
    "points=mpPose.PoseLandmark\n",
    "pose = mpPose.Pose()"
   ]
  },
  {
   "cell_type": "code",
   "execution_count": 3,
   "metadata": {},
   "outputs": [],
   "source": [
    "mp_drawing = mp.solutions.drawing_utils # Drawing helpers"
   ]
  },
  {
   "cell_type": "code",
   "execution_count": 4,
   "metadata": {},
   "outputs": [],
   "source": [
    "with open('body_language.pkl', 'rb') as f:\n",
    "    model = pickle.load(f)"
   ]
  },
  {
   "cell_type": "code",
   "execution_count": 5,
   "metadata": {},
   "outputs": [],
   "source": [
    "def calculateAngle(landmark1, landmark2, landmark3):\n",
    "  \n",
    "\n",
    "    # Get the required landmarks coordinates.\n",
    "    x1, y1, _ = landmark1\n",
    "    x2, y2, _ = landmark2\n",
    "    x3, y3, _ = landmark3\n",
    "\n",
    "    # Calculate the angle between the three points\n",
    "    angle = math.degrees(math.atan2(y3 - y2, x3 - x2) - math.atan2(y1 - y2, x1 - x2))\n",
    "    \n",
    "    # Check if the angle is less than zero.\n",
    "    if angle < 0:\n",
    "\n",
    "        # Add 360 to the found angle.\n",
    "        angle += 360\n",
    "    \n",
    "    # Return the calculated angle.\n",
    "    return angle"
   ]
  },
  {
   "cell_type": "code",
   "execution_count": 8,
   "metadata": {},
   "outputs": [
    {
     "name": "stderr",
     "output_type": "stream",
     "text": [
      "c:\\Users\\DELL\\AppData\\Local\\Programs\\Python\\Python39\\lib\\site-packages\\sklearn\\base.py:450: UserWarning: X does not have valid feature names, but StandardScaler was fitted with feature names\n",
      "  warnings.warn(\n",
      "c:\\Users\\DELL\\AppData\\Local\\Programs\\Python\\Python39\\lib\\site-packages\\sklearn\\base.py:450: UserWarning: X does not have valid feature names, but StandardScaler was fitted with feature names\n",
      "  warnings.warn(\n"
     ]
    },
    {
     "name": "stdout",
     "output_type": "stream",
     "text": [
      "Standing forward pose\n",
      "[0.00719883 0.00729233 0.04919165 0.00297611 0.03283513 0.01049371\n",
      " 0.03465035 0.00496483 0.0106449  0.00413763 0.00878746 0.00885562\n",
      " 0.06515753 0.70504999 0.00717245 0.02867806 0.00473213 0.00718132]\n",
      "0.7050499857301504\n"
     ]
    }
   ],
   "source": [
    "cap=cv2.imread('images/standing.jpg') #path of image to predict yoga class\n",
    "size=cv2.resize(cap,(500,500))\n",
    "# Initiate holistic model\n",
    "with mpPose.Pose(static_image_mode=False, min_detection_confidence=0.5, model_complexity=1) as mp_pose:\n",
    "        # Recolor Feed\n",
    "        image = cv2.cvtColor(size, cv2.COLOR_BGR2RGB)\n",
    "        image.flags.writeable = False        \n",
    "        width, height = image.shape[:2]\n",
    "        # Make Detections\n",
    "        results = mp_pose.process(image)\n",
    "\n",
    "        image.flags.writeable = True   \n",
    "        image = cv2.cvtColor(image, cv2.COLOR_RGB2BGR)\n",
    "        landmarks = []\n",
    "        temp=[]\n",
    "        if results.pose_landmarks:\n",
    "        \n",
    "            mp_drawing.draw_landmarks(image=image,landmark_list=results.pose_landmarks,connections=mpPose.POSE_CONNECTIONS)\n",
    "            for landmark in results.pose_landmarks.landmark:\n",
    "                    landmarks.append((int(landmark.x * width), int(landmark.y * height),(landmark.z * width)))\n",
    "            left_elbow_angle = calculateAngle(landmarks[mpPose.PoseLandmark.LEFT_SHOULDER.value],\n",
    "                                landmarks[mpPose.PoseLandmark.LEFT_ELBOW.value],\n",
    "                                landmarks[mpPose.PoseLandmark.LEFT_WRIST.value])\n",
    "\n",
    "            # Get the angle between the right shoulder, elbow and wrist points. \n",
    "            right_elbow_angle = calculateAngle(landmarks[mpPose.PoseLandmark.RIGHT_SHOULDER.value],\n",
    "                                            landmarks[mpPose.PoseLandmark.RIGHT_ELBOW.value],\n",
    "                                            landmarks[mpPose.PoseLandmark.RIGHT_WRIST.value])   \n",
    "                    \n",
    "            # Get the angle between the left elbow, shoulder and hip points. \n",
    "            left_shoulder_angle = calculateAngle(landmarks[mpPose.PoseLandmark.LEFT_ELBOW.value],\n",
    "                                                landmarks[mpPose.PoseLandmark.LEFT_SHOULDER.value],\n",
    "                                                landmarks[mpPose.PoseLandmark.LEFT_HIP.value])\n",
    "\n",
    "            # Get the angle between the right hip, shoulder and elbow points. \n",
    "            right_shoulder_angle = calculateAngle(landmarks[mpPose.PoseLandmark.RIGHT_HIP.value],\n",
    "                                                landmarks[mpPose.PoseLandmark.RIGHT_SHOULDER.value],\n",
    "                                                landmarks[mpPose.PoseLandmark.RIGHT_ELBOW.value])\n",
    "\n",
    "            # Get the angle between the left hip, knee and ankle points. \n",
    "            left_knee_angle = calculateAngle(landmarks[mpPose.PoseLandmark.LEFT_HIP.value],\n",
    "                                            landmarks[mpPose.PoseLandmark.LEFT_KNEE.value],\n",
    "                                            landmarks[mpPose.PoseLandmark.LEFT_ANKLE.value])\n",
    "\n",
    "            # Get the angle between the right hip, knee and ankle points \n",
    "            right_knee_angle = calculateAngle(landmarks[mpPose.PoseLandmark.RIGHT_HIP.value],\n",
    "                                            landmarks[mpPose.PoseLandmark.RIGHT_KNEE.value],\n",
    "                                            landmarks[mpPose.PoseLandmark.RIGHT_ANKLE.value])\n",
    "            \n",
    "            \n",
    "            left_hip_angle=calculateAngle(landmarks[mpPose.PoseLandmark.LEFT_SHOULDER.value],\n",
    "                                            landmarks[mpPose.PoseLandmark.LEFT_HIP.value],\n",
    "                                            landmarks[mpPose.PoseLandmark.LEFT_KNEE.value])\n",
    "\n",
    "            right_hip_angle=calculateAngle(landmarks[mpPose.PoseLandmark.RIGHT_SHOULDER.value],\n",
    "                                            landmarks[mpPose.PoseLandmark.RIGHT_HIP.value],\n",
    "                                            landmarks[mpPose.PoseLandmark.RIGHT_KNEE.value])\n",
    "\n",
    "            temp=[left_elbow_angle,right_elbow_angle,left_shoulder_angle,right_shoulder_angle,left_knee_angle,right_knee_angle,left_hip_angle,right_hip_angle]\n",
    "        # Export coordinates\n",
    "        try:\n",
    "            # Extract Pose landmarks\n",
    "            pose = results.pose_landmarks.landmark\n",
    "            # pose_row = list(np.array([[landmark.x, landmark.y,landmark.z,landmark.visibility] for landmark in pose]).flatten())\n",
    "            \n",
    "            X = pd.DataFrame([temp])\n",
    "            \n",
    "            body_language_class = model.predict(X)[0]\n",
    "            body_language_prob = model.predict_proba(X)[0]\n",
    "            print(body_language_class) \n",
    "            print(body_language_prob)\n",
    "            \n",
    "            print(np.max(body_language_prob))\n",
    "            # Display Class\n",
    "            \n",
    "            \n",
    "            \n",
    "            cv2.putText(image, 'CLASS'\n",
    "                        , (95,12), cv2.FONT_HERSHEY_SIMPLEX, 0.5, (0, 0, 0), 1, cv2.LINE_AA)\n",
    "            cv2.putText(image, body_language_class\n",
    "                        , (90,40), cv2.FONT_HERSHEY_SIMPLEX, 1, (255, 0, 0), 2, cv2.LINE_AA)\n",
    "            \n",
    "            # Display Probability\n",
    "            cv2.putText(image, 'PROB'\n",
    "                        , (15,12), cv2.FONT_HERSHEY_SIMPLEX, 0.5, (0, 0, 0), 1, cv2.LINE_AA)\n",
    "            cv2.putText(image, str(round(body_language_prob[np.argmax(body_language_prob)],2))\n",
    "                        , (10,40), cv2.FONT_HERSHEY_SIMPLEX, 1, (255, 0, 0), 2, cv2.LINE_AA)\n",
    "           \n",
    "            \n",
    "        except:\n",
    "            pass\n",
    "                        \n",
    "        cv2.imshow('Raw Webcam Feed', image)\n",
    "cv2.waitKey(0)\n",
    "cv2.destroyAllWindows()"
   ]
  }
 ],
 "metadata": {
  "kernelspec": {
   "display_name": "Python 3",
   "language": "python",
   "name": "python3"
  },
  "language_info": {
   "codemirror_mode": {
    "name": "ipython",
    "version": 3
   },
   "file_extension": ".py",
   "mimetype": "text/x-python",
   "name": "python",
   "nbconvert_exporter": "python",
   "pygments_lexer": "ipython3",
   "version": "3.9.1"
  },
  "orig_nbformat": 4
 },
 "nbformat": 4,
 "nbformat_minor": 2
}
