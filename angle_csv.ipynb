{
 "cells": [
  {
   "cell_type": "code",
   "execution_count": null,
   "metadata": {},
   "outputs": [],
   "source": [
    "import mediapipe as mp\n",
    "import cv2\n",
    "import math\n",
    "import os\n",
    "import csv\n",
    "\n",
    "mpDraw = mp.solutions.drawing_utils\n",
    "mpPose = mp.solutions.pose\n",
    "mp_holistic = mp.solutions.holistic\n",
    "pose = mpPose.Pose()"
   ]
  },
  {
   "cell_type": "code",
   "execution_count": null,
   "metadata": {},
   "outputs": [],
   "source": [
    "landmarks = ['class','left_elbow_angle','right_elbow_angle','left_shoulder_angle','right_shoulder_angle','left_knee_angle','right_knee_angle','left_hip_angle','right_hip_angle']"
   ]
  },
  {
   "cell_type": "code",
   "execution_count": null,
   "metadata": {},
   "outputs": [],
   "source": [
    "with open('body_angles.csv', mode='w', newline='') as f:\n",
    "    csv_writer = csv.writer(f, delimiter=',', quotechar='\"', quoting=csv.QUOTE_MINIMAL)\n",
    "    csv_writer.writerow(landmarks)"
   ]
  },
  {
   "cell_type": "code",
   "execution_count": null,
   "metadata": {},
   "outputs": [],
   "source": [
    "def calculateAngle(landmark1, landmark2, landmark3):\n",
    "  \n",
    "\n",
    "    # Get the required landmarks coordinates.\n",
    "    x1, y1, _ = landmark1\n",
    "    x2, y2, _ = landmark2\n",
    "    x3, y3, _ = landmark3\n",
    "\n",
    "    # Calculate the angle between the three points\n",
    "    angle = math.degrees(math.atan2(y3 - y2, x3 - x2) - math.atan2(y1 - y2, x1 - x2))\n",
    "    \n",
    "    # Check if the angle is less than zero.\n",
    "    if angle < 0:\n",
    "\n",
    "        # Add 360 to the found angle.\n",
    "        angle += 360\n",
    "    \n",
    "    # Return the calculated angle.\n",
    "    return angle"
   ]
  },
  {
   "cell_type": "code",
   "execution_count": null,
   "metadata": {},
   "outputs": [],
   "source": [
    "rootdir=\"dataset\"\n",
    "for file in os.listdir(rootdir):\n",
    "    path=rootdir+'/'+file\n",
    "    class_name=file\n",
    "    for img in os.listdir(path):\n",
    "        temp = []\n",
    "        landmarks = []\n",
    "        img = cv2.imread(path + \"/\" + img)\n",
    "        height,width=img.shape[:2]\n",
    "        # print(im_height,\" \",im_width)\n",
    "        imgRGB = cv2.cvtColor(img, cv2.COLOR_BGR2RGB)\n",
    "        results = pose.process(imgRGB)\n",
    "        if results.pose_landmarks:\n",
    "                for landmark in results.pose_landmarks.landmark:\n",
    "                    landmarks.append((int(landmark.x * width), int(landmark.y * height),(landmark.z * width)))\n",
    "                \n",
    "                \n",
    "                left_elbow_angle = calculateAngle(landmarks[mpPose.PoseLandmark.LEFT_SHOULDER.value],\n",
    "                                    landmarks[mpPose.PoseLandmark.LEFT_ELBOW.value],\n",
    "                                    landmarks[mpPose.PoseLandmark.LEFT_WRIST.value])\n",
    "\n",
    "                # Get the angle between the right shoulder, elbow and wrist points. \n",
    "                right_elbow_angle = calculateAngle(landmarks[mpPose.PoseLandmark.RIGHT_SHOULDER.value],\n",
    "                                                landmarks[mpPose.PoseLandmark.RIGHT_ELBOW.value],\n",
    "                                                landmarks[mpPose.PoseLandmark.RIGHT_WRIST.value])   \n",
    "                        \n",
    "                # Get the angle between the left elbow, shoulder and hip points. \n",
    "                left_shoulder_angle = calculateAngle(landmarks[mpPose.PoseLandmark.LEFT_ELBOW.value],\n",
    "                                                    landmarks[mpPose.PoseLandmark.LEFT_SHOULDER.value],\n",
    "                                                    landmarks[mpPose.PoseLandmark.LEFT_HIP.value])\n",
    "\n",
    "                # Get the angle between the right hip, shoulder and elbow points. \n",
    "                right_shoulder_angle = calculateAngle(landmarks[mpPose.PoseLandmark.RIGHT_HIP.value],\n",
    "                                                    landmarks[mpPose.PoseLandmark.RIGHT_SHOULDER.value],\n",
    "                                                    landmarks[mpPose.PoseLandmark.RIGHT_ELBOW.value])\n",
    "\n",
    "                # Get the angle between the left hip, knee and ankle points. \n",
    "                left_knee_angle = calculateAngle(landmarks[mpPose.PoseLandmark.LEFT_HIP.value],\n",
    "                                                landmarks[mpPose.PoseLandmark.LEFT_KNEE.value],\n",
    "                                                landmarks[mpPose.PoseLandmark.LEFT_ANKLE.value])\n",
    "\n",
    "                # Get the angle between the right hip, knee and ankle points \n",
    "                right_knee_angle = calculateAngle(landmarks[mpPose.PoseLandmark.RIGHT_HIP.value],\n",
    "                                                landmarks[mpPose.PoseLandmark.RIGHT_KNEE.value],\n",
    "                                                landmarks[mpPose.PoseLandmark.RIGHT_ANKLE.value])\n",
    "                \n",
    "                left_hip_angle=calculateAngle(landmarks[mpPose.PoseLandmark.LEFT_SHOULDER.value],\n",
    "                                              landmarks[mpPose.PoseLandmark.LEFT_HIP.value],\n",
    "                                              landmarks[mpPose.PoseLandmark.LEFT_KNEE.value])\n",
    "\n",
    "                right_hip_angle=calculateAngle(landmarks[mpPose.PoseLandmark.RIGHT_SHOULDER.value],\n",
    "                                              landmarks[mpPose.PoseLandmark.RIGHT_HIP.value],\n",
    "                                              landmarks[mpPose.PoseLandmark.RIGHT_KNEE.value])\n",
    "                \n",
    "                temp = temp + [left_elbow_angle,right_elbow_angle,left_shoulder_angle,right_shoulder_angle,left_knee_angle,right_knee_angle,left_hip_angle,right_hip_angle]\n",
    "                temp.insert(0, class_name)\n",
    "                print(temp)\n",
    "            \n",
    "        # Export to CSV\n",
    "                with open('body_angles.csv', mode='a', newline='') as f:\n",
    "                        csv_writer = csv.writer(f, delimiter=',', quotechar='\"', quoting=csv.QUOTE_MINIMAL)\n",
    "                        csv_writer.writerow(temp)"
   ]
  }
 ],
 "metadata": {
  "kernelspec": {
   "display_name": "Python 3",
   "language": "python",
   "name": "python3"
  },
  "language_info": {
   "codemirror_mode": {
    "name": "ipython",
    "version": 3
   },
   "file_extension": ".py",
   "mimetype": "text/x-python",
   "name": "python",
   "nbconvert_exporter": "python",
   "pygments_lexer": "ipython3",
   "version": "3.9.1"
  },
  "orig_nbformat": 4
 },
 "nbformat": 4,
 "nbformat_minor": 2
}
